{
 "cells": [
  {
   "cell_type": "code",
   "execution_count": 1,
   "id": "73ec352d",
   "metadata": {},
   "outputs": [],
   "source": [
    "from IPython.display import clear_output\n",
    "\n",
    "def display_board(board):\n",
    "    clear_output()\n",
    "    \n",
    "    print('   |   |')\n",
    "    print(' ' + board[7] + ' | ' + board[8] + ' | ' + board[9])\n",
    "    print('   |   |')\n",
    "    print('-----------')\n",
    "    print('   |   |')\n",
    "    print(' ' + board[4] + ' | ' + board[5] + ' | ' + board[6])\n",
    "    print('   |   |')\n",
    "    print('-----------')\n",
    "    print('   |   |')\n",
    "    print(' ' + board[1] + ' | ' + board[2] + ' | ' + board[3])\n",
    "    print('   |   |')"
   ]
  },
  {
   "cell_type": "code",
   "execution_count": 2,
   "id": "e8266ca6",
   "metadata": {},
   "outputs": [
    {
     "name": "stdout",
     "output_type": "stream",
     "text": [
      "   |   |\n",
      " X | O | X\n",
      "   |   |\n",
      "-----------\n",
      "   |   |\n",
      " O | X | O\n",
      "   |   |\n",
      "-----------\n",
      "   |   |\n",
      " X | O | X\n",
      "   |   |\n"
     ]
    }
   ],
   "source": [
    "test_board=['#','X','O','X','O','X','O','X','O','X']\n",
    "display_board(test_board)"
   ]
  },
  {
   "cell_type": "code",
   "execution_count": 5,
   "id": "5c631347",
   "metadata": {},
   "outputs": [],
   "source": [
    "lst=[i for i in range(1,10)]\n",
    "def win_check(final_lst):\n",
    "    if final_lst[7]==\"X\" and final_lst[8]==\"X\" and final_lst[9]==\"X\":\n",
    "        return False\n",
    "    elif final_lst[7]==\"O\" and final_lst[8]==\"O\" and final_lst[9]==\"O\":\n",
    "        return True\n",
    "    elif final_lst[4]==\"X\" and final_lst[5]==\"X\" and final_lst[6]==\"X\":\n",
    "        return False\n",
    "    elif final_lst[4]==\"O\" and final_lst[5]==\"O\" and final_lst[6]==\"O\":\n",
    "        return True\n",
    "    elif final_lst[1]==\"X\" and final_lst[2]==\"X\" and final_lst[3]==\"X\":\n",
    "        return False\n",
    "    elif final_lst[1]==\"O\" and final_lst[2]==\"O\" and final_lst[3]==\"O\":\n",
    "        return True\n",
    "    elif final_lst[1]==\"X\" and final_lst[4]==\"X\" and final_lst[7]==\"X\":\n",
    "        return False\n",
    "    elif final_lst[1]==\"O\" and final_lst[4]==\"O\" and final_lst[7]==\"O\":\n",
    "        return True\n",
    "    elif final_lst[2]==\"X\" and final_lst[5]==\"X\" and final_lst[8]==\"X\":\n",
    "        return False\n",
    "    elif final_lst[2]==\"O\" and final_lst[5]==\"O\" and final_lst[8]==\"O\":\n",
    "        return True\n",
    "    elif final_lst[3]==\"X\" and final_lst[6]==\"X\" and final_lst[9]==\"X\":\n",
    "        return False\n",
    "    elif final_lst[3]==\"O\" and final_lst[6]==\"O\" and final_lst[9]==\"O\":\n",
    "        return True\n",
    "    elif final_lst[3]==\"O\" and final_lst[5]==\"O\" and final_lst[7]==\"O\":\n",
    "        return True\n",
    "    elif final_lst[3]==\"X\" and final_lst[5]==\"X\" and final_lst[7]==\"X\":\n",
    "        return False\n",
    "    elif final_lst[1]==\"X\" and final_lst[5]==\"X\" and final_lst[9]==\"X\":\n",
    "        return False\n",
    "    elif final_lst[1]==\"O\" and final_lst[5]==\"O\" and final_lst[9]==\"O\":\n",
    "        return True\n",
    "    else:\n",
    "        return 3\n",
    "    \n",
    "def game():\n",
    "    global good_board\n",
    "    good_board=[\"#\",\" \",\" \",\" \",\" \",\" \",\" \",\" \",\" \",\" \"] #used double space for the board to seem normal#\n",
    "    for i in range(1,10):\n",
    "        if i%2==0:\n",
    "            a='X'\n",
    "        else:\n",
    "            a='O'\n",
    "        position=input('Please choose your position: ')\n",
    "        if position=='1':\n",
    "            good_board[1]=a\n",
    "        elif position=='2':\n",
    "            good_board[2]=a\n",
    "        elif position=='3':\n",
    "            good_board[3]=a\n",
    "        elif position=='4':\n",
    "            good_board[4]=a\n",
    "        elif position=='5':\n",
    "            good_board[5]=a\n",
    "        elif position=='6':\n",
    "            good_board[6]=a\n",
    "        elif position=='7':\n",
    "            good_board[7]=a\n",
    "        elif position=='8':\n",
    "            good_board[8]=a\n",
    "        elif position=='9':\n",
    "            good_board[9]=a\n",
    "        else:\n",
    "            print(\"The position you chose is not valid. Please try again\")\n",
    "        print(good_board)\n",
    "        display_board(good_board)\n",
    "        if win_check(good_board)==True:\n",
    "            return \"Player 1 wins.\"\n",
    "        elif win_check(good_board)==False:\n",
    "            return \"Player 2 wins.\"\n",
    "    if win_check(good_board)==3:\n",
    "        print(\"It's a draw.\")"
   ]
  },
  {
   "cell_type": "code",
   "execution_count": 8,
   "id": "f7b1d02a",
   "metadata": {},
   "outputs": [
    {
     "name": "stdout",
     "output_type": "stream",
     "text": [
      "   |   |\n",
      " O |   |  \n",
      "   |   |\n",
      "-----------\n",
      "   |   |\n",
      " O | X | X\n",
      "   |   |\n",
      "-----------\n",
      "   |   |\n",
      " X | O | X\n",
      "   |   |\n",
      "It's a draw.\n"
     ]
    }
   ],
   "source": [
    "game()"
   ]
  }
 ],
 "metadata": {
  "kernelspec": {
   "display_name": "Python 3 (ipykernel)",
   "language": "python",
   "name": "python3"
  },
  "language_info": {
   "codemirror_mode": {
    "name": "ipython",
    "version": 3
   },
   "file_extension": ".py",
   "mimetype": "text/x-python",
   "name": "python",
   "nbconvert_exporter": "python",
   "pygments_lexer": "ipython3",
   "version": "3.9.13"
  }
 },
 "nbformat": 4,
 "nbformat_minor": 5
}
